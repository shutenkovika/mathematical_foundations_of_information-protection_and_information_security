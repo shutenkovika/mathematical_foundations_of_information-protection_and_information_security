{
 "cells": [
  {
   "cell_type": "code",
   "execution_count": 10,
   "id": "370cf0d4-5173-4327-ab49-ab71e2d6ca59",
   "metadata": {
    "tags": []
   },
   "outputs": [],
   "source": [
    "def euclid(a,b):\n",
    "    while a!=0 and b!=0:\n",
    "        if a>b:\n",
    "            a%=b\n",
    "        else:\n",
    "            b%=a\n",
    "    return a or b"
   ]
  },
  {
   "cell_type": "code",
   "execution_count": 11,
   "id": "2529b5f3-8f5a-41c7-aa64-f59fcea9db6d",
   "metadata": {},
   "outputs": [
    {
     "data": {
      "text/plain": [
       "3"
      ]
     },
     "execution_count": 11,
     "metadata": {},
     "output_type": "execute_result"
    }
   ],
   "source": [
    "euclid(12345,54321)"
   ]
  },
  {
   "cell_type": "code",
   "execution_count": 12,
   "id": "e25a5f90-e46a-49ba-b8fc-61009337d34b",
   "metadata": {},
   "outputs": [],
   "source": [
    "def bin_euclid(a,b):\n",
    "    if a==b:\n",
    "        return a\n",
    "    g=0\n",
    "    while (a|b)&1==0:\n",
    "        g+=1\n",
    "        a>>=1\n",
    "        b>>=1\n",
    "    while a&1==0:\n",
    "        a>>=1\n",
    "    while b!=0:\n",
    "        while b&1==0:\n",
    "            b>>=1\n",
    "        if a>b:\n",
    "            a,b=b,a\n",
    "        b-=a\n",
    "    return a<<g"
   ]
  },
  {
   "cell_type": "code",
   "execution_count": 13,
   "id": "6fe9c6ad-8f50-4bc8-ab59-2e32d2456d59",
   "metadata": {},
   "outputs": [
    {
     "data": {
      "text/plain": [
       "3"
      ]
     },
     "execution_count": 13,
     "metadata": {},
     "output_type": "execute_result"
    }
   ],
   "source": [
    "bin_euclid(12345,54321)"
   ]
  },
  {
   "cell_type": "code",
   "execution_count": 14,
   "id": "860c18ac-2a9e-4579-83b4-9507b374c831",
   "metadata": {},
   "outputs": [],
   "source": [
    "def ext_euclid(a,b):\n",
    "    if a==0:\n",
    "        y=0\n",
    "        x=1\n",
    "        return b,y,x\n",
    "    else:\n",
    "        d,x,y=ext_euclid(b%a,a)\n",
    "    return d,y-(b//a)*x,x"
   ]
  },
  {
   "cell_type": "code",
   "execution_count": 15,
   "id": "0e0465ba-17c9-487e-b6fb-786ecfbe6965",
   "metadata": {},
   "outputs": [
    {
     "data": {
      "text/plain": [
       "(3, 3617, -822)"
      ]
     },
     "execution_count": 15,
     "metadata": {},
     "output_type": "execute_result"
    }
   ],
   "source": [
    "ext_euclid(12345,54321)"
   ]
  },
  {
   "cell_type": "code",
   "execution_count": 16,
   "id": "d901deb1-9abb-418b-b030-8919d6bcac73",
   "metadata": {},
   "outputs": [],
   "source": [
    "def ext_bin_euclid(a,b):\n",
    "    g=1\n",
    "    while(a%2==0) and (b%2==0):\n",
    "        a/=2\n",
    "        b/=2\n",
    "        g*=2\n",
    "    u=a\n",
    "    v=b\n",
    "    A=1\n",
    "    B=0\n",
    "    C=0\n",
    "    D=1\n",
    "    while u!=0:\n",
    "        while u%2==0:\n",
    "            u/=2\n",
    "            if (A%2==0) and (B%2==0):\n",
    "                A/=2\n",
    "                B/=2\n",
    "            else:\n",
    "                A=(A+b)/2\n",
    "                B=(B-a)/2\n",
    "        while v%2==0:\n",
    "            v/=2\n",
    "            if (C%2==0) and (D%2==0):\n",
    "                C/=2\n",
    "                D/=2\n",
    "            else:\n",
    "                C=(C+b)/2\n",
    "                D=(D-a)/2\n",
    "        if u>=v:\n",
    "            u-=v\n",
    "            A-=C\n",
    "            B-=D\n",
    "        else:\n",
    "            v-=u\n",
    "            C-=A\n",
    "            D-=B\n",
    "    d=g*v\n",
    "    x=C\n",
    "    y=D\n",
    "    return d,x,y"
   ]
  },
  {
   "cell_type": "code",
   "execution_count": 17,
   "id": "hearing-fourth",
   "metadata": {},
   "outputs": [
    {
     "data": {
      "text/plain": [
       "(3.0, -14490.0, 3293.0)"
      ]
     },
     "execution_count": 17,
     "metadata": {},
     "output_type": "execute_result"
    }
   ],
   "source": [
    "ext_bin_euclid(12345,54321)"
   ]
  },
  {
   "cell_type": "code",
   "execution_count": null,
   "id": "6557aa6b-fbd9-48dc-8396-2665ad6729c6",
   "metadata": {},
   "outputs": [],
   "source": []
  }
 ],
 "metadata": {
  "kernelspec": {
   "display_name": "Python 3 (ipykernel)",
   "language": "python",
   "name": "python3"
  },
  "language_info": {
   "codemirror_mode": {
    "name": "ipython",
    "version": 3
   },
   "file_extension": ".py",
   "mimetype": "text/x-python",
   "name": "python",
   "nbconvert_exporter": "python",
   "pygments_lexer": "ipython3",
   "version": "3.9.13"
  }
 },
 "nbformat": 4,
 "nbformat_minor": 5
}
