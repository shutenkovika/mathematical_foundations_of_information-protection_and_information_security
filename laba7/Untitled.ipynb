{
 "cells": [
  {
   "cell_type": "code",
   "execution_count": 11,
   "id": "c4399fee-20da-4540-af3e-8b6aa9d932c9",
   "metadata": {},
   "outputs": [],
   "source": [
    "import numpy as np"
   ]
  },
  {
   "cell_type": "code",
   "execution_count": 12,
   "id": "1f43d467-a4cf-4ba0-819d-8990cf1886ef",
   "metadata": {},
   "outputs": [],
   "source": [
    "def mod(a ,b):\n",
    "    return a % b\n"
   ]
  },
  {
   "cell_type": "code",
   "execution_count": 13,
   "id": "b38d86d4-9009-4fb9-87a9-766a6491171a",
   "metadata": {},
   "outputs": [],
   "source": [
    "def order(a, p):\n",
    "    x = 1\n",
    "    while mod(a**x - 1, p) != 0:\n",
    "        x += 1\n",
    "        \n",
    "    return x"
   ]
  },
  {
   "cell_type": "code",
   "execution_count": 14,
   "id": "7dae481b-248f-45c9-9fec-d2f9bf158be1",
   "metadata": {},
   "outputs": [],
   "source": [
    "def po_method(a: int, b: int, p: int):\n",
    "    print(f\"\\n{a}^(x) = {b} mod {p}\")\n",
    "    print(\"-----------------------------------------------------------------\")\n",
    "    print('|\\tc\\t|\\tlog c\\t|\\td\\t|\\tlog d\\t|')\n",
    "    print(\"-----------------------------------------------------------------\")\n",
    "    \n",
    "    u = np.random.randint(4)\n",
    "    v = np.random.randint(4)\n",
    "    r = order(a, p)\n",
    "    \n",
    "    c = mod(np.power(a, u) * np.power(b, v), p)\n",
    "    d = c\n",
    "    \n",
    "    u_c, u_d = u, u\n",
    "    v_c, v_d = v, v\n",
    "    \n",
    "    print(f'|\\t{c}\\t|\\t{u_c}+{v_c}x\\t|\\t{d}\\t|\\t{u_d}+{v_d}x\\t|')\n",
    "    \n",
    "    def f(x, u_x, v_x):\n",
    "        if x < r:\n",
    "            return mod(a*x, p), u_x + 1, v_x\n",
    "        else:\n",
    "            return mod(b*x, p), u_x, v_x + 1            \n",
    "\n",
    "    c, u_c, v_c = f(c, u_c, v_c)\n",
    "    tmp_d = f(d, u_d, v_d)\n",
    "    d, u_d, v_d = f(tmp_d[0], tmp_d[1], tmp_d[2])\n",
    "    \n",
    "    while mod(c, p) != mod(d, p):\n",
    "        print(f'|\\t{c}\\t|\\t{u_c}+{v_c}x\\t|\\t{d}\\t|\\t{u_d}+{v_d}x\\t|')\n",
    "        c, u_c, v_c = f(c, u_c, v_c)\n",
    "        tmp_d = f(d, u_d, v_d)\n",
    "        d, u_d, v_d = f(tmp_d[0], tmp_d[1], tmp_d[2])\n",
    "        \n",
    "    print(f'|\\t{c}\\t|\\t{u_c}+{v_c}x\\t|\\t{d}\\t|\\t{u_d}+{v_d}x\\t|')\n",
    "    print(\"-----------------------------------------------------------------\")\n",
    "    \n",
    "    x = 1\n",
    "    # print(v_c - v_d, u_d - u_c)\n",
    "    while mod((v_c - v_d)*x, r) != mod(u_d - u_c, r):\n",
    "        x += 1\n",
    "        \n",
    "    print(f\"x = {x}\")\n",
    "    print(f\"\\n{a}^({x}) = {b} mod {p}\")\n",
    "    print(\"-----------------------------------------------------------------\")\n",
    "    return x\n"
   ]
  },
  {
   "cell_type": "code",
   "execution_count": 15,
   "id": "431dca33-23d1-4036-a3b1-520d2b571a3b",
   "metadata": {},
   "outputs": [
    {
     "name": "stdout",
     "output_type": "stream",
     "text": [
      "\n",
      "10^(x) = 64 mod 107\n",
      "-----------------------------------------------------------------\n",
      "|\tc\t|\tlog c\t|\td\t|\tlog d\t|\n",
      "-----------------------------------------------------------------\n",
      "|\t42\t|\t2+3x\t|\t42\t|\t2+3x\t|\n",
      "|\t99\t|\t3+3x\t|\t23\t|\t3+4x\t|\n",
      "|\t23\t|\t3+4x\t|\t53\t|\t5+4x\t|\n",
      "|\t16\t|\t4+4x\t|\t92\t|\t5+6x\t|\n",
      "|\t53\t|\t5+4x\t|\t30\t|\t6+7x\t|\n",
      "|\t75\t|\t5+5x\t|\t47\t|\t7+8x\t|\n",
      "|\t92\t|\t5+6x\t|\t99\t|\t9+8x\t|\n",
      "|\t3\t|\t5+7x\t|\t16\t|\t10+9x\t|\n",
      "|\t30\t|\t6+7x\t|\t75\t|\t11+10x\t|\n",
      "|\t86\t|\t7+7x\t|\t3\t|\t11+12x\t|\n",
      "|\t47\t|\t7+8x\t|\t86\t|\t13+12x\t|\n",
      "|\t42\t|\t8+8x\t|\t42\t|\t14+13x\t|\n",
      "-----------------------------------------------------------------\n",
      "x = 20\n",
      "\n",
      "10^(20) = 64 mod 107\n",
      "-----------------------------------------------------------------\n",
      "\n",
      "2^(x) = 1 mod 15\n",
      "-----------------------------------------------------------------\n",
      "|\tc\t|\tlog c\t|\td\t|\tlog d\t|\n",
      "-----------------------------------------------------------------\n",
      "|\t4\t|\t2+2x\t|\t4\t|\t2+2x\t|\n",
      "|\t4\t|\t2+3x\t|\t4\t|\t2+4x\t|\n",
      "-----------------------------------------------------------------\n",
      "x = 4\n",
      "\n",
      "2^(4) = 1 mod 15\n",
      "-----------------------------------------------------------------\n"
     ]
    }
   ],
   "source": [
    "def main():\n",
    "    po_method(10, 64, 107)\n",
    "    po_method(2, 1, 15)\n",
    "    \n",
    "    \n",
    "if __name__ == \"__main__\":\n",
    "    main()"
   ]
  },
  {
   "cell_type": "code",
   "execution_count": null,
   "id": "181b6531-98b9-4af5-a212-e7b1d634dd8f",
   "metadata": {},
   "outputs": [],
   "source": []
  },
  {
   "cell_type": "code",
   "execution_count": null,
   "id": "b66047b0-4553-4d38-a2c5-3524fb672d03",
   "metadata": {},
   "outputs": [],
   "source": []
  }
 ],
 "metadata": {
  "kernelspec": {
   "display_name": "Python 3 (ipykernel)",
   "language": "python",
   "name": "python3"
  },
  "language_info": {
   "codemirror_mode": {
    "name": "ipython",
    "version": 3
   },
   "file_extension": ".py",
   "mimetype": "text/x-python",
   "name": "python",
   "nbconvert_exporter": "python",
   "pygments_lexer": "ipython3",
   "version": "3.9.13"
  }
 },
 "nbformat": 4,
 "nbformat_minor": 5
}
