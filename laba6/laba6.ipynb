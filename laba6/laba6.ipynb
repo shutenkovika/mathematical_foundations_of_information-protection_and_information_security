{
 "cells": [
  {
   "cell_type": "code",
   "execution_count": 1,
   "id": "65a856b7-a945-46a3-968e-c6af0bbbcffb",
   "metadata": {},
   "outputs": [],
   "source": [
    "import numpy as np"
   ]
  },
  {
   "cell_type": "code",
   "execution_count": 2,
   "id": "09ee461d-2a02-40ec-b4d7-24d906479a7a",
   "metadata": {},
   "outputs": [],
   "source": [
    "def mod(a ,b):\n",
    "    return a % b"
   ]
  },
  {
   "cell_type": "code",
   "execution_count": 3,
   "id": "22baa280-5541-48c2-86c4-21f72695da68",
   "metadata": {},
   "outputs": [],
   "source": [
    "def pollard(n: int, c: int, f):\n",
    "    d = 1\n",
    "    cnt = 0\n",
    "    a, b = c, c\n",
    "    \n",
    "    print(f\"a = {a}, b = {b}\")\n",
    "    \n",
    "    while d == 1:\n",
    "        a = mod(f(a), n)\n",
    "        b = mod(f(b), n)\n",
    "        d = np.gcd(a - b, n)\n",
    "        \n",
    "        if mod(cnt, 100) == 0 or d != 1:\n",
    "            print(f\"iteration {cnt+1}: a = {a}, b = {b}, d = {d}\")\n",
    "\n",
    "        cnt += 1\n",
    "        \n",
    "    if d == n:\n",
    "        print(\"Делитель не найден\")\n",
    "        return None\n",
    "    \n",
    "    return d"
   ]
  },
  {
   "cell_type": "code",
   "execution_count": 5,
   "id": "bf4594d5-5eef-4e24-9b0c-4f63bac16db0",
   "metadata": {},
   "outputs": [
    {
     "name": "stdout",
     "output_type": "stream",
     "text": [
      "Поллард 1359331\n",
      "---------\n",
      "a = 1, b = 1\n",
      "iteration 1: a = 727, b = 659, d = 1\n",
      "iteration 101: a = 221284, b = 1055655, d = 1\n",
      "iteration 201: a = 738532, b = 474401, d = 1\n",
      "iteration 301: a = 436715, b = 1356036, d = 1\n",
      "iteration 378: a = 36811, b = 62133, d = 1151\n",
      "Нетривиальный делитель 1359331: p = 1151\n",
      "---------\n",
      "\n",
      "Поллард 137\n",
      "---------\n",
      "a = 5, b = 5\n",
      "iteration 1: a = 30, b = 33, d = 1\n",
      "iteration 101: a = 12, b = 102, d = 1\n",
      "iteration 201: a = 19, b = 70, d = 1\n",
      "iteration 213: a = 68, b = 68, d = 137\n",
      "Делитель не найден\n",
      "---------\n",
      "\n",
      "Поллард 322\n",
      "---------\n",
      "a = 12, b = 12\n",
      "iteration 1: a = 149, b = 158, d = 1\n",
      "iteration 6: a = 108, b = 258, d = 2\n",
      "Нетривиальный делитель 322: p = 2\n",
      "---------\n",
      "\n"
     ]
    }
   ],
   "source": [
    "def pollard_test(n, c):\n",
    "    print(f'Поллард {n}\\n---------')\n",
    "    f = lambda x: np.power(x, 2) + mod(np.random.randint(1, np.floor(np.sqrt(n))), n)\n",
    "    p = pollard(n, c, f)\n",
    "    \n",
    "    if p != None:\n",
    "        print(f'Нетривиальный делитель {n}: p = {p}')\n",
    "        \n",
    "    print(f'---------\\n')\n",
    "\n",
    "def main():\n",
    "    pollard_test(1359331, 1)\n",
    "    pollard_test(137, 5)\n",
    "    pollard_test(322, 12)\n",
    "    \n",
    "if __name__ == \"__main__\":\n",
    "    main()"
   ]
  },
  {
   "cell_type": "code",
   "execution_count": null,
   "id": "11ea3d0e-1e62-4777-9b5d-fc0a2695d582",
   "metadata": {},
   "outputs": [],
   "source": []
  }
 ],
 "metadata": {
  "kernelspec": {
   "display_name": "Python 3 (ipykernel)",
   "language": "python",
   "name": "python3"
  },
  "language_info": {
   "codemirror_mode": {
    "name": "ipython",
    "version": 3
   },
   "file_extension": ".py",
   "mimetype": "text/x-python",
   "name": "python",
   "nbconvert_exporter": "python",
   "pygments_lexer": "ipython3",
   "version": "3.9.13"
  }
 },
 "nbformat": 4,
 "nbformat_minor": 5
}
