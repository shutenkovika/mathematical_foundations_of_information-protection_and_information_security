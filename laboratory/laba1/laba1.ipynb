{
 "cells": [
  {
   "cell_type": "code",
   "execution_count": 141,
   "id": "274a87d3-f5b6-48d6-a680-c6246de9a278",
   "metadata": {},
   "outputs": [],
   "source": [
    "def ceasar (text, k):\n",
    "    result = \"\"\n",
    "    for i in text:\n",
    "        if i == \" \":\n",
    "            result += i\n",
    "        elif i.isupper():\n",
    "            i_unicode = ord(i)\n",
    "            i_index = ord(i) - ord(\"A\")\n",
    "            new_index = (i_index+k)%26\n",
    "            new_unicode = new_index + ord(\"A\")\n",
    "            new_char=chr(new_unicode)\n",
    "            result = result + new_char\n",
    "        elif i != i.isupper():\n",
    "            i_unicode = ord(i)\n",
    "            i_index = ord(i) - ord(\"a\")\n",
    "            new_index = (i_index+k)%26\n",
    "            new_unicode = new_index + ord(\"a\")\n",
    "            new_char=chr(new_unicode)\n",
    "            result = result + new_char\n",
    "    print (\"Plain text: \" + text)\n",
    "    print (\"Encrypted text: \" + result)"
   ]
  },
  {
   "cell_type": "code",
   "execution_count": 142,
   "id": "ce4f6c99-c639-429d-95ab-6bdb6a63fe85",
   "metadata": {},
   "outputs": [
    {
     "name": "stdout",
     "output_type": "stream",
     "text": [
      "Plain text: heLLo world\n",
      "Encrypted text: mjQQt btwqi\n"
     ]
    }
   ],
   "source": [
    "ceasar(\"heLLo world\", 5)"
   ]
  },
  {
   "cell_type": "code",
   "execution_count": 101,
   "id": "ceacb1cc-387a-4e76-b02c-41d35c34f47c",
   "metadata": {},
   "outputs": [
    {
     "ename": "NameError",
     "evalue": "name 'ABCDEFGHIJKLMNOPQRSTUVWXYZ' is not defined",
     "output_type": "error",
     "traceback": [
      "\u001b[0;31m---------------------------------------------------------------------------\u001b[0m",
      "\u001b[0;31mNameError\u001b[0m                                 Traceback (most recent call last)",
      "\u001b[0;32m/var/folders/8t/3wfqfnw11fs0nlff0rg9j2hr0000gn/T/ipykernel_6065/2289637584.py\u001b[0m in \u001b[0;36m<module>\u001b[0;34m\u001b[0m\n\u001b[0;32m----> 1\u001b[0;31m \u001b[0mABCDEFGHIJKLMNOPQRSTUVWXYZ\u001b[0m\u001b[0;34m\u001b[0m\u001b[0;34m\u001b[0m\u001b[0m\n\u001b[0m\u001b[1;32m      2\u001b[0m \u001b[0mZYXWVUTSRQPONMLKJIHGFEDCB\u001b[0m\u001b[0;34m\u001b[0m\u001b[0;34m\u001b[0m\u001b[0m\n",
      "\u001b[0;31mNameError\u001b[0m: name 'ABCDEFGHIJKLMNOPQRSTUVWXYZ' is not defined"
     ]
    }
   ],
   "source": [
    "ABCDEFGHIJKLMNOPQRSTUVWXYZ\n",
    "ZYXWVUTSRQPONMLKJIHGFEDCBA"
   ]
  },
  {
   "cell_type": "code",
   "execution_count": 143,
   "id": "1a4460db-8565-4ec4-81be-1c291b1807b6",
   "metadata": {},
   "outputs": [],
   "source": [
    "def atbash (text):\n",
    "    result = \"\"\n",
    "    for i in text:\n",
    "        if i == \" \":\n",
    "            result += i\n",
    "        elif i.isupper():\n",
    "            i_unicode = ord(i)\n",
    "            i_index = ord(i) - ord(\"A\")\n",
    "            new_index = 25-i_index%26\n",
    "            new_unicode = new_index + ord(\"A\")\n",
    "            new_char=chr(new_unicode)\n",
    "            result = result + new_char\n",
    "        elif i != i.isupper():\n",
    "            i_unicode = ord(i)\n",
    "            i_index = ord(i) - ord(\"a\")\n",
    "            new_index = 25-i_index%26\n",
    "            new_unicode = new_index + ord(\"a\")\n",
    "            new_char=chr(new_unicode)\n",
    "            result = result + new_char\n",
    "    print (\"Plain text: \" + text)\n",
    "    print (\"Encrypted text: \" + result)"
   ]
  },
  {
   "cell_type": "code",
   "execution_count": 144,
   "id": "6ab16c3b-383e-448a-980f-423a7823ffd5",
   "metadata": {},
   "outputs": [
    {
     "name": "stdout",
     "output_type": "stream",
     "text": [
      "Plain text: Hello world\n",
      "Encrypted text: Svool dliow\n"
     ]
    }
   ],
   "source": [
    "atbash(\"Hello world\")"
   ]
  },
  {
   "cell_type": "code",
   "execution_count": null,
   "id": "f6f2ab77-1f5a-4734-9bb7-55453433947d",
   "metadata": {},
   "outputs": [],
   "source": []
  }
 ],
 "metadata": {
  "kernelspec": {
   "display_name": "Python 3 (ipykernel)",
   "language": "python",
   "name": "python3"
  },
  "language_info": {
   "codemirror_mode": {
    "name": "ipython",
    "version": 3
   },
   "file_extension": ".py",
   "mimetype": "text/x-python",
   "name": "python",
   "nbconvert_exporter": "python",
   "pygments_lexer": "ipython3",
   "version": "3.9.13"
  }
 },
 "nbformat": 4,
 "nbformat_minor": 5
}
